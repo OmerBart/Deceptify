{
 "cells": [
  {
   "attachments": {},
   "cell_type": "markdown",
   "metadata": {},
   "source": [
    "# Demonstration\n",
    "This is a demonstration of using `face-alignment` with S3FD as well as BlazeFace as backend. You will notice how BlazeFace speeds up the process significantly comparing to using the default face detector (S3FD)"
   ]
  },
  {
   "cell_type": "code",
   "execution_count": 2,
   "metadata": {},
   "source": [
    "import face_alignment\n",
    "import cv2\n",
    "import numpy as np\n",
    "import torch\n",
    "import matplotlib.pyplot as plt"
   ],
   "outputs": []
  },
  {
   "cell_type": "code",
   "execution_count": 3,
   "metadata": {},
   "source": [
    "cap = cv2.VideoCapture('acazlolrpz.mp4')\n",
    "frames = []\n",
    "while True:\n",
    "    success, frame = cap.read()\n",
    "    if not success:\n",
    "        break\n",
    "    \n",
    "    frame = cv2.cvtColor(frame, cv2.COLOR_BGR2RGB)\n",
    "    frames.append(frame)\n"
   ],
   "outputs": []
  },
  {
   "attachments": {},
   "cell_type": "markdown",
   "metadata": {},
   "source": [
    "# Testing `face-alignment` with S3FD Face Detector"
   ]
  },
  {
   "cell_type": "code",
   "execution_count": 5,
   "metadata": {
    "tags": []
   },
   "source": [
    "fa = face_alignment.FaceAlignment(face_alignment.LandmarksType.TWO_HALF_D, device='cpu', face_detector='sfd')"
   ],
   "outputs": []
  },
  {
   "attachments": {},
   "cell_type": "markdown",
   "metadata": {},
   "source": [
    "## Testing on single images"
   ]
  },
  {
   "cell_type": "code",
   "execution_count": 6,
   "metadata": {
    "tags": []
   },
   "source": [
    "import time\n",
    "t_start = time.time()\n",
    "det = fa.get_landmarks_from_image(frames[0])\n",
    "print(f'SFD: Execution time for a single image: {time.time() - t_start}')"
   ],
   "outputs": []
  },
  {
   "cell_type": "code",
   "execution_count": 15,
   "metadata": {},
   "source": [
    "plt.imshow(frames[0])\n",
    "for detection in det:\n",
    "    plt.scatter(detection[:,0], detection[:,1], 2)"
   ],
   "outputs": []
  },
  {
   "attachments": {},
   "cell_type": "markdown",
   "metadata": {},
   "source": [
    "## Testing on a batch"
   ]
  },
  {
   "cell_type": "code",
   "execution_count": 16,
   "metadata": {
    "tags": []
   },
   "source": [
    "batch = np.stack(frames)\n",
    "batch = batch.transpose(0, 3, 1, 2)\n",
    "batch = torch.Tensor(batch[:2])\n",
    "t_start = time.time()\n",
    "preds = fa.get_landmarks_from_batch(batch)\n",
    "print(f'SFD: Execution time for a batch of 2 images: {time.time() - t_start}')"
   ],
   "outputs": []
  },
  {
   "cell_type": "code",
   "execution_count": 17,
   "metadata": {},
   "source": [
    "fig = plt.figure(figsize=(10, 5))\n",
    "for i, pred in enumerate(preds):\n",
    "    plt.subplot(1, 2, i + 1)\n",
    "    plt.imshow(frames[1])\n",
    "    plt.title(f'frame[{i}]')\n",
    "    for detection in pred:\n",
    "        plt.scatter(detection[:,0], detection[:,1], 2)\n"
   ],
   "outputs": []
  },
  {
   "attachments": {},
   "cell_type": "markdown",
   "metadata": {},
   "source": [
    "# Testing BlazeFace"
   ]
  },
  {
   "cell_type": "code",
   "execution_count": 18,
   "metadata": {},
   "source": [
    "fa = face_alignment.FaceAlignment(face_alignment.LandmarksType.TWO_D, device='cpu', face_detector='blazeface')"
   ],
   "outputs": []
  },
  {
   "attachments": {},
   "cell_type": "markdown",
   "metadata": {},
   "source": [
    "## Testing on single images"
   ]
  },
  {
   "cell_type": "code",
   "execution_count": 19,
   "metadata": {
    "tags": []
   },
   "source": [
    "t_start = time.time()\n",
    "preds = fa.get_landmarks_from_image(frames[0])\n",
    "print(f'BlazeFace: Execution time for a single image: {time.time() - t_start}')"
   ],
   "outputs": []
  },
  {
   "cell_type": "code",
   "execution_count": 29,
   "metadata": {},
   "source": [
    "plt.imshow(frames[0])\n",
    "for detection in preds:\n",
    "    plt.scatter(detection[:,0], detection[:,1], 2)"
   ],
   "outputs": []
  },
  {
   "attachments": {},
   "cell_type": "markdown",
   "metadata": {},
   "source": [
    "## Testing on a Batch"
   ]
  },
  {
   "cell_type": "code",
   "execution_count": 23,
   "metadata": {
    "tags": []
   },
   "source": [
    "batch = np.stack(frames)\n",
    "batch = batch.transpose(0, 3, 1, 2)\n",
    "batch = torch.Tensor(batch[:2])\n",
    "t_start = time.time()\n",
    "preds = fa.get_landmarks_from_batch(batch)\n",
    "print(f'BlazeFace: Execution time for a batch of 2 images: {time.time() - t_start}')"
   ],
   "outputs": []
  },
  {
   "cell_type": "code",
   "execution_count": 24,
   "metadata": {},
   "source": [
    "fig = plt.figure(figsize=(10, 25))\n",
    "\n",
    "for i, pred in enumerate(preds):\n",
    "    plt.subplot(5, 2, i + 1)\n",
    "    plt.imshow(frames[i])\n",
    "    plt.title(f'frame[{i}]')\n",
    "    for detection in pred:\n",
    "        plt.scatter(detection[:,0], detection[:,1], 2)\n"
   ],
   "outputs": []
  },
  {
   "cell_type": "code",
   "execution_count": null,
   "metadata": {},
   "source": [],
   "outputs": []
  }
 ],
 "metadata": {
  "kernelspec": {
   "display_name": "base",
   "language": "python",
   "name": "python3"
  },
  "language_info": {
   "codemirror_mode": {
    "name": "ipython",
    "version": 3
   },
   "file_extension": ".py",
   "mimetype": "text/x-python",
   "name": "python",
   "nbconvert_exporter": "python",
   "pygments_lexer": "ipython3",
   "version": "3.10.10"
  },
  "orig_nbformat": 2
 },
 "nbformat": 4,
 "nbformat_minor": 2
}
